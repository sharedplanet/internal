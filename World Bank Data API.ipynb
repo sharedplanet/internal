{
 "cells": [
  {
   "cell_type": "code",
   "execution_count": 1,
   "id": "80a13379-7efb-4a30-888e-26776a30f50d",
   "metadata": {},
   "outputs": [
    {
     "data": {
      "application/vnd.jupyter.widget-view+json": {
       "model_id": "1c99991bc4194adab144f97f8fd1b565",
       "version_major": 2,
       "version_minor": 0
      },
      "text/plain": [
       "VBox(children=(Dropdown(description='Database:', options=(('Doing Business', '1'), ('World Development Indicat…"
      ]
     },
     "execution_count": 1,
     "metadata": {},
     "output_type": "execute_result"
    }
   ],
   "source": [
    "import wbgapi as wb\n",
    "import pandas as pd\n",
    "import geopandas as gpd\n",
    "import matplotlib.pyplot as plt\n",
    "import plotly.express as px\n",
    "from ipywidgets import Dropdown, VBox, Output\n",
    "\n",
    "world = gpd.read_file(\"ne_110m_admin_0_countries.shp\")\n",
    "\n",
    "world = world.rename(columns={'name': 'country_name'})\n",
    "\n",
    "dbs_df = pd.DataFrame([(db['id'], db['name']) for db in wb.source.list()], columns=['id', 'name'])\n",
    "db_dropdown = Dropdown(options=[(name, _id) for _id, name in zip(dbs_df['id'], dbs_df['name'])], description='Database:')\n",
    "\n",
    "ind_dropdown = Dropdown(options=[], description='Indicator:')\n",
    "\n",
    "output = Output()\n",
    "\n",
    "def update_indicators(change):\n",
    "    db_id = change['new']\n",
    "    wb.db = db_id\n",
    "    indicators = [(ind['id'], ind.get('value', '[No Description]')) for ind in wb.series.list()]\n",
    "    indicators.sort(key=lambda x: x[1])\n",
    "    ind_dropdown.options = [(name, _id) for _id, name in indicators]\n",
    "\n",
    "db_dropdown.observe(update_indicators, names='value')\n",
    "\n",
    "def visualize(indicator_id, database_id):\n",
    "    with output:\n",
    "        output.clear_output()\n",
    "        wb.db = database_id\n",
    "\n",
    "        df = wb.data.DataFrame(indicator_id, labels=True)\n",
    "        df.reset_index(inplace=True)\n",
    "\n",
    "        year_columns = [col for col in df.columns if col.startswith(\"YR\")]\n",
    "        df_long = df.melt(id_vars=[\"economy\", \"Country\"], value_vars=year_columns,\n",
    "                          var_name=\"year\", value_name=\"value\")\n",
    "        df_long['year'] = df_long['year'].str.replace(\"YR\", \"\").astype(int)\n",
    "        df_long.dropna(subset=['value'], inplace=True)\n",
    "\n",
    "        merged = world.merge(df_long.rename(columns={'economy': 'ISO_A3'}), how='left', on='ISO_A3')\n",
    "\n",
    "        latest_year = df_long['year'].max()\n",
    "        print(f\"Showing static map for latest available year: {latest_year}\")\n",
    "        merged_latest = merged[merged['year'] == latest_year]\n",
    "\n",
    "        fig, ax = plt.subplots(1, 1, figsize=(15, 8))\n",
    "        merged_latest.plot(column='value', cmap='viridis', linewidth=0.8, ax=ax, edgecolor='0.8', legend=True)\n",
    "        ax.set_title(f\"{indicator_id} ({latest_year})\", fontsize=16)\n",
    "        plt.axis('off')\n",
    "        \n",
    "\n",
    "        min_val = merged['value'].min()\n",
    "        max_val = merged['value'].max()\n",
    "\n",
    "        fig2 = px.choropleth(\n",
    "            merged,\n",
    "            locations=\"ISO_A3\",\n",
    "            color=\"value\",\n",
    "            hover_name=\"Country\",\n",
    "            animation_frame=\"year\",\n",
    "            color_continuous_scale=\"Viridis\",\n",
    "            range_color=(min_val, max_val),    # fix color scale here\n",
    "            title=f\"{indicator_id} Over Time\"\n",
    "            )\n",
    "\n",
    "        fig2.update_layout(\n",
    "            width=900,\n",
    "            height=600,\n",
    "            geo=dict(showframe=False, showcoastlines=False),\n",
    "            margin={\"r\":0,\"t\":30,\"l\":0,\"b\":0}\n",
    "            )\n",
    "\n",
    "        fig2.show()\n",
    "\n",
    "def on_indicator_change(change):\n",
    "    if change['new']:\n",
    "        visualize(change['new'], db_dropdown.value)\n",
    "\n",
    "ind_dropdown.observe(on_indicator_change, names='value')\n",
    "\n",
    "update_indicators({'new': db_dropdown.value})\n",
    "\n",
    "VBox([db_dropdown, ind_dropdown, output])"
   ]
  },
  {
   "cell_type": "code",
   "execution_count": null,
   "id": "29b0bd4a-d19b-4a44-ae9c-326227280cb5",
   "metadata": {},
   "outputs": [],
   "source": []
  },
  {
   "cell_type": "code",
   "execution_count": null,
   "id": "7f7fca6e-e8c1-4f10-b7bd-1a8e8d8b024c",
   "metadata": {},
   "outputs": [],
   "source": []
  }
 ],
 "metadata": {
  "kernelspec": {
   "display_name": "Python [conda env:base] *",
   "language": "python",
   "name": "conda-base-py"
  },
  "language_info": {
   "codemirror_mode": {
    "name": "ipython",
    "version": 3
   },
   "file_extension": ".py",
   "mimetype": "text/x-python",
   "name": "python",
   "nbconvert_exporter": "python",
   "pygments_lexer": "ipython3",
   "version": "3.12.2"
  }
 },
 "nbformat": 4,
 "nbformat_minor": 5
}
